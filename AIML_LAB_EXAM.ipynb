{
  "nbformat": 4,
  "nbformat_minor": 0,
  "metadata": {
    "colab": {
      "provenance": [],
      "authorship_tag": "ABX9TyPUpQQsResA/FpJweQnWzau",
      "include_colab_link": true
    },
    "kernelspec": {
      "name": "python3",
      "display_name": "Python 3"
    },
    "language_info": {
      "name": "python"
    }
  },
  "cells": [
    {
      "cell_type": "markdown",
      "metadata": {
        "id": "view-in-github",
        "colab_type": "text"
      },
      "source": [
        "<a href=\"https://colab.research.google.com/github/2303A52153/AIML_2025/blob/main/AIML_LAB_EXAM.ipynb\" target=\"_parent\"><img src=\"https://colab.research.google.com/assets/colab-badge.svg\" alt=\"Open In Colab\"/></a>"
      ]
    },
    {
      "cell_type": "code",
      "execution_count": null,
      "metadata": {
        "id": "eGGTrClIuaeF"
      },
      "outputs": [],
      "source": [
        "Prediction of Online Shoppers Purchase Intentions."
      ]
    },
    {
      "cell_type": "markdown",
      "source": [
        "Name the product most liked and purchased"
      ],
      "metadata": {
        "id": "CZxqgRshvv1X"
      }
    },
    {
      "cell_type": "code",
      "source": [
        "import pandas as pd\n",
        "\n",
        "# Sample data (replace with your actual data)\n",
        "data = {'product_id': [1, 2, 1, 3, 2, 1],\n",
        "        'purchase_count': [2, 1, 3, 1, 2, 1],\n",
        "        'likes_count': [5, 2, 8, 3, 4, 6]}\n",
        "df = pd.DataFrame(data)  # Creating the DataFrame 'df'\n",
        "\n",
        "# Find the most purchased product\n",
        "most_purchased_product = df.groupby('product_id')['purchase_count'].sum().idxmax()\n",
        "\n",
        "# Find the most liked product\n",
        "most_liked_product = df.groupby('product_id')['likes_count'].sum().idxmax()\n",
        "\n",
        "print(f\"Most Purchased Product: {most_purchased_product}\")\n",
        "print(f\"Most Liked Product: {most_liked_product}\")"
      ],
      "metadata": {
        "colab": {
          "base_uri": "https://localhost:8080/"
        },
        "id": "QzFuqp_ovykP",
        "outputId": "a1c5ea65-f4e9-4695-b1a0-f60c47a38a49"
      },
      "execution_count": 12,
      "outputs": [
        {
          "output_type": "stream",
          "name": "stdout",
          "text": [
            "Most Purchased Product: 1\n",
            "Most Liked Product: 1\n"
          ]
        }
      ]
    },
    {
      "cell_type": "markdown",
      "source": [
        "Identify the special days when most products are purchased"
      ],
      "metadata": {
        "id": "ORCM4cIhwEMM"
      }
    },
    {
      "cell_type": "code",
      "source": [
        "# Add a 'purchase_date' column to the DataFrame\n",
        "import pandas as pd\n",
        "import numpy as np\n",
        "\n",
        "# Sample data (replace with your actual data)\n",
        "data = {'product_id': [1, 2, 1, 3, 2, 1],\n",
        "        'purchase_count': [2, 1, 3, 1, 2, 1],\n",
        "        'likes_count': [5, 2, 8, 3, 4, 6]}\n",
        "df = pd.DataFrame(data)  # Creating the DataFrame 'df'\n",
        "\n",
        "# Add a 'purchase_date' column with sample dates\n",
        "# You'll need to replace this with your actual purchase date data\n",
        "df['purchase_date'] = pd.to_datetime(['2023-10-26', '2023-10-27', '2023-10-28', '2023-10-29', '2023-10-30', '2023-10-31'])\n",
        "\n",
        "\n",
        "# Assuming we have a 'purchase_date' column in the dataset\n",
        "#df['purchase_date'] = pd.to_datetime(df['purchase_date']) # This line is no longer needed as 'purchase_date' is already datetime\n",
        "df['day_of_week'] = df['purchase_date'].dt.day_name()\n",
        "\n",
        "# Group by purchase date and count purchases\n",
        "purchase_counts = df.groupby('purchase_date')['purchase_count'].sum()\n",
        "\n",
        "# Identify special days (e.g., major holidays, sales events)\n",
        "special_days = purchase_counts.sort_values(ascending=False).head(10)  # Top 10 days with most purchases\n",
        "\n",
        "print(special_days)"
      ],
      "metadata": {
        "colab": {
          "base_uri": "https://localhost:8080/"
        },
        "id": "h9euF6FBwE5G",
        "outputId": "e287619e-04df-45c8-89a1-f825c3b4aca8"
      },
      "execution_count": 13,
      "outputs": [
        {
          "output_type": "stream",
          "name": "stdout",
          "text": [
            "purchase_date\n",
            "2023-10-28    3\n",
            "2023-10-26    2\n",
            "2023-10-30    2\n",
            "2023-10-27    1\n",
            "2023-10-29    1\n",
            "2023-10-31    1\n",
            "Name: purchase_count, dtype: int64\n"
          ]
        }
      ]
    },
    {
      "cell_type": "markdown",
      "source": [
        "List the top 5 special days of purchase and type of visitors"
      ],
      "metadata": {
        "id": "bETK5tr3wSR_"
      }
    },
    {
      "cell_type": "code",
      "source": [
        "# Assuming we have 'visitor_type' column indicating 'new' or 'returning' visitors\n",
        "# If the column doesn't exist, we need to create it and assign values to it.\n",
        "# Here's an example of how you might do that:\n",
        "# Replace this with your actual logic to determine visitor type\n",
        "df['visitor_type'] = np.random.choice(['new', 'returning'], size=len(df))\n",
        "\n",
        "df['visitor_type'] = df['visitor_type'].astype(str)\n",
        "\n",
        "# Find the top 5 special days with most purchases\n",
        "# Group by purchase date and visitor type, sum purchase counts, unstack, and sort\n",
        "top_5_days = df.groupby(['purchase_date', 'visitor_type'])['purchase_count'].sum().unstack()\n",
        "\n",
        "# Sort by the total purchase count across all visitor types\n",
        "# top_5_days['total_purchases'] = top_5_days.sum(axis=1)  # Calculate total purchases for sorting\n",
        "# top_5_days = top_5_days.sort_values(by='total_purchases', ascending=False).head(5)\n",
        "# del top_5_days['total_purchases']  # Remove the temporary 'total_purchases' column\n",
        "# OR\n",
        "# Sort by any of the unstacked columns (e.g., 'new' or 'returning')\n",
        "top_5_days = top_5_days.sort_values(by=['new','returning'], ascending=False).head(5)\n",
        "\n",
        "\n",
        "print(top_5_days)"
      ],
      "metadata": {
        "colab": {
          "base_uri": "https://localhost:8080/"
        },
        "id": "nfHjILeswTF-",
        "outputId": "f1bdd4b1-a06e-4e9d-fde3-16b7affd0177"
      },
      "execution_count": 14,
      "outputs": [
        {
          "output_type": "stream",
          "name": "stdout",
          "text": [
            "visitor_type   new  returning\n",
            "purchase_date                \n",
            "2023-10-28     3.0        NaN\n",
            "2023-10-26     2.0        NaN\n",
            "2023-10-30     2.0        NaN\n",
            "2023-10-27     NaN        1.0\n",
            "2023-10-29     NaN        1.0\n"
          ]
        }
      ]
    },
    {
      "cell_type": "markdown",
      "source": [
        "Identify the months when most purchases happened"
      ],
      "metadata": {
        "id": "lOBjNn9Fwpoq"
      }
    },
    {
      "cell_type": "code",
      "source": [
        "df['purchase_month'] = df['purchase_date'].dt.to_period('M')\n",
        "\n",
        "# Count the purchases by month\n",
        "monthly_purchases = df.groupby('purchase_month')['purchase_count'].sum()\n",
        "\n",
        "# Identify the month with the highest number of purchases\n",
        "most_purchases_month = monthly_purchases.idxmax()\n",
        "most_purchases_count = monthly_purchases.max()\n",
        "\n",
        "print(f\"Month with most purchases: {most_purchases_month} (Total Purchases: {most_purchases_count})\")\n"
      ],
      "metadata": {
        "colab": {
          "base_uri": "https://localhost:8080/"
        },
        "id": "fuVNmcq8wrma",
        "outputId": "053363c8-d1ed-4dd7-d200-7c2fcaaa5637"
      },
      "execution_count": 8,
      "outputs": [
        {
          "output_type": "stream",
          "name": "stdout",
          "text": [
            "Month with most purchases: 2023-10 (Total Purchases: 10)\n"
          ]
        }
      ]
    },
    {
      "cell_type": "markdown",
      "source": [
        "What the max and min revenue generated by the online shoppers"
      ],
      "metadata": {
        "id": "RaOc8HL_wv7L"
      }
    },
    {
      "cell_type": "code",
      "source": [
        "# Assuming 'purchase_count' represents the quantity purchased and 'unit_price' is the price per unit\n",
        "# Create a new 'revenue' column if it doesn't exist\n",
        "if 'revenue' not in df.columns:\n",
        "    # Check if both 'purchase_count' and 'unit_price' columns exist\n",
        "    if 'purchase_count' in df.columns and 'unit_price' in df.columns:\n",
        "        df['revenue'] = df['purchase_count'] * df['unit_price']\n",
        "    else:\n",
        "        # Handle the case where 'purchase_count' or 'unit_price' is missing\n",
        "        # You might want to raise an error or fill 'revenue' with a default value\n",
        "        # For example, you could fill with 0 or NaN:\n",
        "        df['revenue'] = 0  # or df['revenue'] = np.nan\n",
        "        print(\"Warning: 'purchase_count' or 'unit_price' column not found. 'revenue' column filled with 0.\")\n",
        "\n",
        "\n",
        "max_revenue = df['revenue'].max()\n",
        "min_revenue = df['revenue'].min()\n",
        "\n",
        "print(f\"Maximum Revenue: {max_revenue}\")\n",
        "print(f\"Minimum Revenue: {min_revenue}\")"
      ],
      "metadata": {
        "colab": {
          "base_uri": "https://localhost:8080/"
        },
        "id": "ffILJRkEwxKg",
        "outputId": "090459e7-f603-43b1-eb99-d643c9916c60"
      },
      "execution_count": 15,
      "outputs": [
        {
          "output_type": "stream",
          "name": "stdout",
          "text": [
            "Warning: 'purchase_count' or 'unit_price' column not found. 'revenue' column filled with 0.\n",
            "Maximum Revenue: 0\n",
            "Minimum Revenue: 0\n"
          ]
        }
      ]
    }
  ]
}