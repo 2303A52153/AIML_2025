{
  "nbformat": 4,
  "nbformat_minor": 0,
  "metadata": {
    "colab": {
      "provenance": [],
      "authorship_tag": "ABX9TyMyO3bqZj6z27SBNyJMeh2b",
      "include_colab_link": true
    },
    "kernelspec": {
      "name": "python3",
      "display_name": "Python 3"
    },
    "language_info": {
      "name": "python"
    }
  },
  "cells": [
    {
      "cell_type": "markdown",
      "metadata": {
        "id": "view-in-github",
        "colab_type": "text"
      },
      "source": [
        "<a href=\"https://colab.research.google.com/github/2303A52153/AIML_2025/blob/main/2303a52153_lab2.ipynb\" target=\"_parent\"><img src=\"https://colab.research.google.com/assets/colab-badge.svg\" alt=\"Open In Colab\"/></a>"
      ]
    },
    {
      "cell_type": "markdown",
      "source": [
        "LAB_2 - Implement Breadth First, Depth First and A* Search\n",
        "Algorithms\n",
        "Part 1 – Implement Breadth First Search Algorithm using a Queue"
      ],
      "metadata": {
        "id": "R1BAbpdLfkOS"
      }
    },
    {
      "cell_type": "code",
      "source": [
        "from queue import Queue\n",
        "\n",
        "graph = {0: [1, 3], 1: [0, 2, 3], 2: [4, 1, 5], 3: [4, 0, 1], 4: [2, 3, 5], 5: [4, 2], 6: []}\n",
        "print(\"The adjacency List representing the graph is:\")\n",
        "print(graph)\n",
        "\n",
        "\n",
        "def bfs(graph, source):\n",
        "    Q = Queue()\n",
        "    visited_vertices = set()\n",
        "    Q.put(source)\n",
        "    visited_vertices.update({0})\n",
        "    while not Q.empty():\n",
        "        vertex = Q.get()\n",
        "        print(vertex, end=\"-->\")\n",
        "        for u in graph[vertex]:\n",
        "            if u not in visited_vertices:\n",
        "                Q.put(u)\n",
        "                visited_vertices.update({u})\n",
        "\n",
        "print(\"BFS traversal of graph with source 0 is:\")\n",
        "bfs(graph, 0)"
      ],
      "metadata": {
        "id": "YMTrFsfUhsr-",
        "colab": {
          "base_uri": "https://localhost:8080/"
        },
        "outputId": "38bb7301-9fbf-4a78-d101-f6b06719c184"
      },
      "execution_count": 1,
      "outputs": [
        {
          "output_type": "stream",
          "name": "stdout",
          "text": [
            "The adjacency List representing the graph is:\n",
            "{0: [1, 3], 1: [0, 2, 3], 2: [4, 1, 5], 3: [4, 0, 1], 4: [2, 3, 5], 5: [4, 2], 6: []}\n",
            "BFS traversal of graph with source 0 is:\n",
            "0-->1-->3-->2-->4-->5-->"
          ]
        }
      ]
    },
    {
      "cell_type": "code",
      "source": [
        " graph1 = {\n",
        "    'A' : ['B','S'],\n",
        "    'B' : ['A'],\n",
        "    'C' : ['D','E','F','S'],\n",
        "    'D' : ['C'],\n",
        "    'E' : ['C','H'],\n",
        "    'F' : ['C','G'],\n",
        "    'G' : ['F','S'],\n",
        "    'H' : ['E','G'],\n",
        "    'S' : ['A','C','G']\n",
        "}\n",
        "\n",
        "def dfs(graph, node, visited):\n",
        "    if node not in visited:\n",
        "        visited.append(node)\n",
        "        for k in graph[node]:\n",
        "            dfs(graph,k, visited)\n",
        "    return visited\n",
        "\n",
        "visited = dfs(graph1,'D', [])\n",
        "print(visited)"
      ],
      "metadata": {
        "colab": {
          "base_uri": "https://localhost:8080/"
        },
        "id": "lkc_qZfY54W2",
        "outputId": "ff7810b9-845a-4841-a155-7d73c29b4954"
      },
      "execution_count": 2,
      "outputs": [
        {
          "output_type": "stream",
          "name": "stdout",
          "text": [
            "['D', 'C', 'E', 'H', 'G', 'F', 'S', 'A', 'B']\n"
          ]
        }
      ]
    }
  ]
}