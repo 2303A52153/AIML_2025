{
  "nbformat": 4,
  "nbformat_minor": 0,
  "metadata": {
    "colab": {
      "provenance": [],
      "authorship_tag": "ABX9TyNLqnbARMzT5rzYuhYNh9Tj",
      "include_colab_link": true
    },
    "kernelspec": {
      "name": "python3",
      "display_name": "Python 3"
    },
    "language_info": {
      "name": "python"
    }
  },
  "cells": [
    {
      "cell_type": "markdown",
      "metadata": {
        "id": "view-in-github",
        "colab_type": "text"
      },
      "source": [
        "<a href=\"https://colab.research.google.com/github/2303A52153/AIML_2025/blob/main/AIML_Lab_1.ipynb\" target=\"_parent\"><img src=\"https://colab.research.google.com/assets/colab-badge.svg\" alt=\"Open In Colab\"/></a>"
      ]
    },
    {
      "cell_type": "code",
      "execution_count": null,
      "metadata": {
        "id": "9jpqSlicZWrW"
      },
      "outputs": [],
      "source": []
    },
    {
      "cell_type": "markdown",
      "source": [
        "Part 1 – Implement Basic Data Structures using Numpy, Pandas\n",
        "1. Lists\n",
        "2. Arrays\n",
        "\n"
      ],
      "metadata": {
        "id": "QsqM_lyUZhN1"
      }
    },
    {
      "cell_type": "code",
      "source": [
        "import numpy as np\n",
        "lst1=[1, 2, 3]\n",
        "array1=np.array(lst1)\n",
        "array1"
      ],
      "metadata": {
        "colab": {
          "base_uri": "https://localhost:8080/"
        },
        "id": "u8-MLxwhZq99",
        "outputId": "ea70c7ad-8cfc-4224-b10d-566fabc25b40"
      },
      "execution_count": null,
      "outputs": [
        {
          "output_type": "execute_result",
          "data": {
            "text/plain": [
              "array([1, 2, 3])"
            ]
          },
          "metadata": {},
          "execution_count": 1
        }
      ]
    },
    {
      "cell_type": "markdown",
      "source": [
        "creating array 2\n"
      ],
      "metadata": {
        "id": "HQKHu_v1aJTu"
      }
    },
    {
      "cell_type": "code",
      "source": [
        "import numpy as np\n",
        "lst2=[3,2,1]\n",
        "array2=np.array(lst2)\n",
        "array2"
      ],
      "metadata": {
        "colab": {
          "base_uri": "https://localhost:8080/"
        },
        "id": "f45_o3p9aX8s",
        "outputId": "e46af0a0-e1f6-4286-ca59-c7841079e649"
      },
      "execution_count": null,
      "outputs": [
        {
          "output_type": "execute_result",
          "data": {
            "text/plain": [
              "array([3, 2, 1])"
            ]
          },
          "metadata": {},
          "execution_count": 2
        }
      ]
    },
    {
      "cell_type": "markdown",
      "source": [
        "Identify their type using type()\n"
      ],
      "metadata": {
        "id": "64cDLqHxarGF"
      }
    },
    {
      "cell_type": "code",
      "source": [
        "type(lst1)\n",
        "type(lst2)\n"
      ],
      "metadata": {
        "colab": {
          "base_uri": "https://localhost:8080/"
        },
        "id": "tx6ChSJravYD",
        "outputId": "3de1fa38-706a-4a63-bf25-08052e6f6a6b"
      },
      "execution_count": null,
      "outputs": [
        {
          "output_type": "execute_result",
          "data": {
            "text/plain": [
              "list"
            ]
          },
          "metadata": {},
          "execution_count": 6
        }
      ]
    },
    {
      "cell_type": "code",
      "source": [
        "type(array1)\n",
        "type(array2)\n"
      ],
      "metadata": {
        "colab": {
          "base_uri": "https://localhost:8080/"
        },
        "id": "Cr66u89Fa2GD",
        "outputId": "8adfb009-8d8f-42dd-a781-c64cb1fb3bc2"
      },
      "execution_count": null,
      "outputs": [
        {
          "output_type": "execute_result",
          "data": {
            "text/plain": [
              "numpy.ndarray"
            ]
          },
          "metadata": {},
          "execution_count": 5
        }
      ]
    },
    {
      "cell_type": "markdown",
      "source": [
        "Perform mathematical operations on these datasets created - multiplication, division, poweroff"
      ],
      "metadata": {
        "id": "o0dRywlFbShj"
      }
    },
    {
      "cell_type": "code",
      "source": [
        "print(\"multiplication of array1 and array2: \",array1*array2)\n",
        "print(\"Division of array2 and array1: \",array2/array1)\n",
        "print(\"exponential of array2 and array1: \",array2**array1)"
      ],
      "metadata": {
        "colab": {
          "base_uri": "https://localhost:8080/"
        },
        "id": "jpIU9irlbUWD",
        "outputId": "94a83e4e-0a93-4c91-ee99-86917edba750"
      },
      "execution_count": null,
      "outputs": [
        {
          "output_type": "stream",
          "name": "stdout",
          "text": [
            "multiplication of array1 and array2:  [3 4 3]\n",
            "Division of array2 and array1:  [3.         1.         0.33333333]\n",
            "exponential of array2 and array1:  [3 4 1]\n"
          ]
        }
      ]
    },
    {
      "cell_type": "markdown",
      "source": [
        "implement np.sin(), log(), log2(), np.exp())"
      ],
      "metadata": {
        "id": "TikOVTlEb1TF"
      }
    },
    {
      "cell_type": "code",
      "source": [
        "print(\"sin value: \",np.sin(array1))\n",
        "print(\"Sin value: \",np.sin(array2))"
      ],
      "metadata": {
        "colab": {
          "base_uri": "https://localhost:8080/"
        },
        "id": "IQMsAQI9b6CV",
        "outputId": "1a1c36e8-5eb2-41aa-e8a0-d14a8e96e7de"
      },
      "execution_count": null,
      "outputs": [
        {
          "output_type": "stream",
          "name": "stdout",
          "text": [
            "sin value:  [0.84147098 0.90929743 0.14112001]\n",
            "Sin value:  [0.14112001 0.90929743 0.84147098]\n"
          ]
        }
      ]
    },
    {
      "cell_type": "code",
      "source": [
        "print(\"logariarithm base 10 :\",np.log10(array1))\n",
        "print(\"logarithim value: \",np.log(array1))\n",
        "print(\"Base2 logarithm: \",np.log2(array1))\n",
        "print(\"exponential :\",np.exp(array1))"
      ],
      "metadata": {
        "colab": {
          "base_uri": "https://localhost:8080/"
        },
        "id": "IGv6dlk0cUOb",
        "outputId": "0854cf6f-a0c4-4157-f0e5-0244ec016223"
      },
      "execution_count": null,
      "outputs": [
        {
          "output_type": "stream",
          "name": "stdout",
          "text": [
            "logariarithm base 10 : [0.         0.30103    0.47712125]\n",
            "logarithim value:  [0.         0.69314718 1.09861229]\n",
            "Base2 logarithm:  [0.        1.        1.5849625]\n",
            "exponential : [ 2.71828183  7.3890561  20.08553692]\n"
          ]
        }
      ]
    },
    {
      "cell_type": "markdown",
      "source": [
        "Combine text with Numpy fuction to generate a textual output - ”Addition of Two: array1 +array 2\n"
      ],
      "metadata": {
        "id": "FY79KDVCdWzz"
      }
    },
    {
      "cell_type": "code",
      "source": [
        "print(\"Additon two numpy arrays [array1] and [array2] to gether \",array1+array2)"
      ],
      "metadata": {
        "colab": {
          "base_uri": "https://localhost:8080/"
        },
        "id": "8f8AHN4idY1G",
        "outputId": "f01e07f1-3806-41eb-ac45-a61ff86ea854"
      },
      "execution_count": null,
      "outputs": [
        {
          "output_type": "stream",
          "name": "stdout",
          "text": [
            "Additon two numpy arrays [array1] and [array2] to gether  [4 4 4]\n"
          ]
        }
      ]
    },
    {
      "cell_type": "markdown",
      "source": [
        "\n",
        "Part 2 – Visualization of Data using matplotlib, pyplots Packages[CO2]\n",
        "1. Generate a Data set for Health Care using the following:\n",
        "people = [’kiran’, arun’, ’vijay’, ’varun’]\n",
        "age =[25, 30, 35, 40, 45]\n",
        "height =[145, 151, 165, 173]\n",
        "weight=[45, 55, 65, 75]\n",
        "2. Using the generated dataset given above. Generate the following graphs and justify the\n",
        "relationships among the vectors.\n",
        "3. Scatter Plot\n",
        "4. Bar Chart\n",
        "5. Histogram\n",
        "6. Provide Graph Title, labels for X, Y axis with proper justification and explanation of\n",
        "the graph.\n",
        "1"
      ],
      "metadata": {
        "id": "gFLfPJPgd9DB"
      }
    },
    {
      "cell_type": "markdown",
      "source": [
        "creating a data set age(in years) and weight(in kilograms),height (in centimeters)\n"
      ],
      "metadata": {
        "id": "5r4ZQT1ThVpR"
      }
    },
    {
      "cell_type": "code",
      "source": [
        "people = [’kiran’, arun’, ’vijay’, ’varun’]\n",
        "age = [25,30,35,40,45]\n",
        "height=[145,151,165,173]\n",
        "weight=[45,55,65,75]\n"
      ],
      "metadata": {
        "id": "Ir9ah920hiky"
      },
      "execution_count": null,
      "outputs": []
    },
    {
      "cell_type": "code",
      "source": [
        "import mathplotlib.pyplot as plt\n"
      ],
      "metadata": {
        "id": "7Wvo2LXpiUZJ"
      },
      "execution_count": null,
      "outputs": []
    },
    {
      "cell_type": "code",
      "source": [
        "plt.scatter(weight,height)\n",
        "plt.title(relation ship between height and weight in patients\")"
      ],
      "metadata": {
        "id": "AA5p-_8yid_J"
      },
      "execution_count": null,
      "outputs": []
    },
    {
      "cell_type": "code",
      "source": [],
      "metadata": {
        "id": "0wOvX5-jiyeZ"
      },
      "execution_count": null,
      "outputs": []
    }
  ]
}